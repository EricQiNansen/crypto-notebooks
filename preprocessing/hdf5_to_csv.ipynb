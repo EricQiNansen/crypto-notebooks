{
 "cells": [
  {
   "cell_type": "markdown",
   "metadata": {},
   "source": [
    "# Convert HDF5 to CSV"
   ]
  },
  {
   "cell_type": "markdown",
   "metadata": {},
   "source": [
    "**Hardware:** n1-highmem-32, 32 vCPUs, 208 GB memory, 1TB SSD"
   ]
  },
  {
   "cell_type": "code",
   "execution_count": 1,
   "metadata": {},
   "outputs": [],
   "source": [
    "import gc\n",
    "import os\n",
    "\n",
    "import dask.bag as db\n",
    "import pandas as pd\n",
    "from dask.diagnostics import ProgressBar"
   ]
  },
  {
   "cell_type": "code",
   "execution_count": 2,
   "metadata": {},
   "outputs": [],
   "source": [
    "HDF5_DIR = '/data/hdf5'\n",
    "CSV_DIR = '/data/csv'"
   ]
  },
  {
   "cell_type": "code",
   "execution_count": 3,
   "metadata": {},
   "outputs": [],
   "source": [
    "def hdf5_to_csv(hdf5_file: str, csv_file: str)->None:\n",
    "    assert csv_file.endswith('.csv')\n",
    "    df = pd.read_hdf(hdf5_file)\n",
    "    df['timestamp']=df['timestamp'].astype('int64') // int(1e6)\n",
    "    if 'BitMEX' in hdf5_file:\n",
    "        df.sort_values('timestamp', inplace=True, ignore_index=True)\n",
    "    else:\n",
    "        df['trade_id'] = df['trade_id'].astype('int64')\n",
    "        df.sort_values('trade_id', inplace=True, ignore_index=True)\n",
    "\n",
    "    df.to_csv(csv_file, index=False)\n",
    "    del df\n",
    "    gc.collect()"
   ]
  },
  {
   "cell_type": "code",
   "execution_count": 4,
   "metadata": {},
   "outputs": [],
   "source": [
    "hdf5_to_csv('/data/hdf5/OKEx.Swap.XMR_USD.hdf5', '/data/csv/OKEx.Swap.XMR_USD.csv')"
   ]
  },
  {
   "cell_type": "code",
   "execution_count": 5,
   "metadata": {},
   "outputs": [],
   "source": [
    "def convert_dir(hdf5_dir: str, csv_dir: str)->None:\n",
    "    files = os.listdir(hdf5_dir)\n",
    "    with ProgressBar():\n",
    "        db.from_sequence(files).map(\n",
    "            lambda file: hdf5_to_csv(os.path.join(hdf5_dir, file), \n",
    "                                     os.path.join(csv_dir, f'{file[0:-5]}.csv'))\n",
    "        ).compute()"
   ]
  },
  {
   "cell_type": "code",
   "execution_count": 6,
   "metadata": {},
   "outputs": [
    {
     "name": "stdout",
     "output_type": "stream",
     "text": [
      "[########################################] | 100% Completed |  5min  5.5s\n"
     ]
    }
   ],
   "source": [
    "convert_dir(HDF5_DIR, CSV_DIR)"
   ]
  }
 ],
 "metadata": {
  "kernelspec": {
   "display_name": "Python 3",
   "language": "python",
   "name": "python3"
  },
  "language_info": {
   "codemirror_mode": {
    "name": "ipython",
    "version": 3
   },
   "file_extension": ".py",
   "mimetype": "text/x-python",
   "name": "python",
   "nbconvert_exporter": "python",
   "pygments_lexer": "ipython3",
   "version": "3.7.6"
  }
 },
 "nbformat": 4,
 "nbformat_minor": 4
}
