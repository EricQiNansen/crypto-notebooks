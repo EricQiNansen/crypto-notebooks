{
 "cells": [
  {
   "cell_type": "markdown",
   "metadata": {},
   "source": [
    "# Split by date and Deduplicate"
   ]
  },
  {
   "cell_type": "code",
   "execution_count": 1,
   "metadata": {},
   "outputs": [],
   "source": [
    "import datetime\n",
    "import glob\n",
    "import gzip\n",
    "import json\n",
    "import os\n",
    "import shutil\n",
    "import subprocess\n",
    "import zipfile\n",
    "\n",
    "import dask.bag as db\n",
    "from tqdm.notebook import tqdm"
   ]
  },
  {
   "cell_type": "code",
   "execution_count": 8,
   "metadata": {},
   "outputs": [],
   "source": [
    "INPUT_DIR = '/data/trade'\n",
    "OUTPUT_DIR = '/data/dates'\n",
    "SORTED_DIR = 'data/sorted'"
   ]
  },
  {
   "cell_type": "markdown",
   "metadata": {},
   "source": [
    "## Split by date"
   ]
  },
  {
   "cell_type": "code",
   "execution_count": 14,
   "metadata": {},
   "outputs": [],
   "source": [
    "def split(input_file:str, output_dir:str)->None:\n",
    "    if input_file.endswith('.json.gz'):\n",
    "        f = gzip.open(input_file, 'rt')\n",
    "        lines = f.readlines()\n",
    "        f.close()\n",
    "    elif input_file.endswith('.zip'):\n",
    "        try:\n",
    "            zf = zipfile.ZipFile(input_file, 'r')\n",
    "        except zipfile.BadZipFile:\n",
    "            if os.path.getsize(input_file) <= 75:\n",
    "                return\n",
    "            else:\n",
    "                raise ValueError(input_file)\n",
    "        assert len(zf.namelist()) == 1\n",
    "        lines = zf.read(zf.namelist()[0]).decode('UTF-8').split('\\n')\n",
    "        zf.close()\n",
    "    elif input_file.endswith('.json') or input_file.endswith('file.log'):\n",
    "        f = open(input_file, 'rt')\n",
    "        lines = f.readlines()\n",
    "        f.close()\n",
    "    else:\n",
    "        raise ValueError('Unknown file suffix ' + input_file)\n",
    "\n",
    "    output_file_pool = {}\n",
    "    for line in lines:\n",
    "        line = line.strip()\n",
    "        if line:\n",
    "            obj = json.loads(line)\n",
    "            if obj['exchange'] == 'Bitfinex' and obj['marketType'] == 'Futures':\n",
    "                obj['marketType'] = 'Swap'  # bugfix for Bitfinex\n",
    "                line = json.dumps(obj)\n",
    "            elif obj['exchange'] == 'WhaleEx' and obj['trade_id'] != obj['raw']['tradeId']:\n",
    "                obj['trade_id'] = str(obj['raw']['tradeId'])  # bugfix for WhaleEx\n",
    "                line = json.dumps(obj)\n",
    "\n",
    "            date_str = datetime.datetime.fromtimestamp(obj['timestamp']/1000.0).isoformat()[0:10]\n",
    "            exchange = obj['exchange']\n",
    "            market_type = obj['marketType']\n",
    "            pair = obj['pair']\n",
    "            rawPair = obj['rawPair']\n",
    "            filename = f'{exchange}.{market_type}.{pair}.{rawPair}' if market_type == 'Futures' else f'{exchange}.{market_type}.{pair}'\n",
    "\n",
    "            output_file = os.path.join(output_dir, f'{filename}.{date_str}.json')\n",
    "            if output_file in output_file_pool:\n",
    "                file_object = output_file_pool[output_file]\n",
    "            else:\n",
    "                file_object = open(output_file, 'at')\n",
    "                output_file_pool[output_file] = file_object\n",
    "            file_object.write(line + '\\n')\n",
    "\n",
    "    for file, file_object in output_file_pool.items():\n",
    "        file_object.close()\n",
    "    del lines"
   ]
  },
  {
   "cell_type": "code",
   "execution_count": 15,
   "metadata": {},
   "outputs": [],
   "source": [
    "# split('/home/frankdai/Downloads/Trade-2020-06/Huobi.Spot.EOS_USDT.2020-06-21.zip', OUTPUT_DIR)"
   ]
  },
  {
   "cell_type": "code",
   "execution_count": 16,
   "metadata": {},
   "outputs": [],
   "source": [
    "def split_multi(input_dir:str, output_dir:str)->None:\n",
    "    json_files = [f for f in glob.glob(os.path.join(input_dir, \"**/*.json\"), recursive=True)]\n",
    "    zip_files = [f for f in glob.glob(os.path.join(input_dir, \"**/*.zip\"), recursive=True)]\n",
    "    gz_files = [f for f in glob.glob(os.path.join(input_dir, \"**/*.json.gz\"), recursive=True)]\n",
    "    log_files = [f for f in glob.glob(os.path.join(input_dir, \"**/file.log\"), recursive=True)]\n",
    "    files = json_files+zip_files+gz_files+log_files\n",
    "    for file in tqdm(files):\n",
    "        split(file, output_dir)\n",
    "        os.remove(file)"
   ]
  },
  {
   "cell_type": "code",
   "execution_count": 19,
   "metadata": {},
   "outputs": [
    {
     "data": {
      "application/vnd.jupyter.widget-view+json": {
       "model_id": "de47a91a68bc4279b0616a9daf180d20",
       "version_major": 2,
       "version_minor": 0
      },
      "text/plain": [
       "HBox(children=(FloatProgress(value=0.0, max=2190.0), HTML(value='')))"
      ]
     },
     "metadata": {},
     "output_type": "display_data"
    },
    {
     "name": "stdout",
     "output_type": "stream",
     "text": [
      "\n"
     ]
    }
   ],
   "source": [
    "# split_multi(INPUT_DIR, OUTPUT_DIR)"
   ]
  },
  {
   "cell_type": "markdown",
   "metadata": {},
   "source": [
    "## Deduplicate and sort"
   ]
  },
  {
   "cell_type": "code",
   "execution_count": 2,
   "metadata": {},
   "outputs": [],
   "source": [
    "def dedup_and_sort(input_file:str, ouput_file:str)->None:\n",
    "    trade_map = {};\n",
    "    f = open(input_file, 'rt')\n",
    "    for line in f:\n",
    "        line = line.strip()\n",
    "        if line:\n",
    "            obj = json.loads(line)\n",
    "            exchange = obj['exchange']\n",
    "            market_type = obj['marketType']\n",
    "            pair = obj['pair']\n",
    "            raw_pair = obj['rawPair']\n",
    "            trade_id = obj['trade_id']\n",
    "            if not trade_id:  # Fix trade_id for Kraken, MXC\n",
    "                if exchange == 'Kraken' or exchange == 'MXC':\n",
    "                    obj['trade_id'] = str(obj['timestamp'])\n",
    "                    trade_id = obj['trade_id']\n",
    "                    line = json.dumps(obj)\n",
    "            if not trade_id:\n",
    "                f.close()\n",
    "                raise ValueError(line)\n",
    "            key = f'{exchange}-{market_type}-{pair}-{raw_pair}-{trade_id}'\n",
    "            trade_map[key] = {'line': line, 'sort_key': int(trade_id) if exchange!='BitMEX' else obj['timestamp']}\n",
    "    f.close()\n",
    "\n",
    "    trade_array = list(trade_map.values())\n",
    "    del trade_map\n",
    "    trade_array.sort(key=lambda x: x['sort_key'])\n",
    "\n",
    "    f = open(ouput_file, 'wt')\n",
    "    for item in trade_array:\n",
    "        f.write(item['line'] + '\\n')\n",
    "    del trade_array\n",
    "    f.close()"
   ]
  },
  {
   "cell_type": "code",
   "execution_count": 3,
   "metadata": {},
   "outputs": [],
   "source": [
    "def dedup_and_sort_wrapper(input_file:str, output_dir:str)->None:\n",
    "    date_str = input_file.split('.')[-2]\n",
    "    date_dir = os.path.join(output_dir, date_str)\n",
    "    os.makedirs(date_dir, exist_ok = True)\n",
    "    dedup_and_sort(input_file, os.path.join(date_dir, os.path.basename(input_file)))"
   ]
  },
  {
   "cell_type": "code",
   "execution_count": 4,
   "metadata": {},
   "outputs": [],
   "source": [
    "def dedup_sort_multi(input_dir:str, output_dir:str)->None:\n",
    "    files = [f for f in glob.glob(os.path.join(input_dir, \"**/*.json\"), recursive=True)]\n",
    "    db.from_sequence(files).map(lambda file: dedup_and_sort_wrapper(file, output_dir)).compute()"
   ]
  },
  {
   "cell_type": "code",
   "execution_count": 7,
   "metadata": {},
   "outputs": [],
   "source": [
    "dedup_sort_multi(OUTPUT_DIR, SORTED_DIR)"
   ]
  }
 ],
 "metadata": {
  "kernelspec": {
   "display_name": "Python 3",
   "language": "python",
   "name": "python3"
  },
  "language_info": {
   "codemirror_mode": {
    "name": "ipython",
    "version": 3
   },
   "file_extension": ".py",
   "mimetype": "text/x-python",
   "name": "python",
   "nbconvert_exporter": "python",
   "pygments_lexer": "ipython3",
   "version": "3.7.6"
  }
 },
 "nbformat": 4,
 "nbformat_minor": 4
}
