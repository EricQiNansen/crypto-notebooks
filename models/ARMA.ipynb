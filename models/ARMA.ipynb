{
 "cells": [
  {
   "cell_type": "markdown",
   "metadata": {},
   "source": [
    "# ARMA\n",
    "\n",
    "If time series data are statonary, we can use ARMA to fit this data.\n",
    "\n",
    "This notebook explores three models: AR(AutoRegressive), MA(Moving Average), ARMA(Autoregressive–moving-average).\n",
    "\n",
    "**Absract**:\n",
    "\n",
    "1. First perform an ADF test, if the time series data are stationary, we can use AR, MA, ARMA models to fit the data.\n",
    "2. Then plot ACF and PACF to estimate p and q.\n",
    "3. Train the model.\n",
    "4. Evaluate predicted values."
   ]
  },
  {
   "cell_type": "code",
   "execution_count": 1,
   "metadata": {},
   "outputs": [],
   "source": [
    "import matplotlib.pyplot as plt\n",
    "import numpy as np\n",
    "import pandas as pd\n",
    "import seaborn as sns\n",
    "import statsmodels.api as sm\n",
    "from scipy import stats\n",
    "from statsmodels.graphics.tsaplots import plot_acf, plot_pacf\n",
    "from statsmodels.tsa.stattools import adfuller as ADF\n",
    "\n",
    "%matplotlib inline"
   ]
  },
  {
   "cell_type": "code",
   "execution_count": 2,
   "metadata": {},
   "outputs": [],
   "source": [
    "import warnings\n",
    "warnings.filterwarnings('ignore')"
   ]
  },
  {
   "cell_type": "markdown",
   "metadata": {},
   "source": [
    "## 1. Data Exploration"
   ]
  },
  {
   "cell_type": "code",
   "execution_count": 3,
   "metadata": {},
   "outputs": [],
   "source": [
    "from utils import read_bars as read_bars_tmp\n",
    "\n",
    "# Read bars in May 2020\n",
    "def read_bars(csv_file: str)->pd.DataFrame:\n",
    "    TIME_BEGIN = pd.to_datetime('2020-05-01T00:00:00.000Z').tz_localize(None)\n",
    "    TIME_END = pd.to_datetime('2020-06-01T00:00:00.000Z').tz_localize(None)\n",
    "    bars_df = read_bars_tmp(csv_file)\n",
    "    bars_df = bars_df[(bars_df['timestamp'] >= TIME_BEGIN) & (bars_df['timestamp_end'] < TIME_END)]\n",
    "    return bars_df"
   ]
  },
  {
   "cell_type": "code",
   "execution_count": 4,
   "metadata": {},
   "outputs": [],
   "source": [
    "volume_bars = read_bars('/data/bars/VolumeBar/64/VolumeBar.64.Binance.Swap.BTC_USDT.csv')"
   ]
  },
  {
   "cell_type": "code",
   "execution_count": 5,
   "metadata": {},
   "outputs": [
    {
     "data": {
      "text/html": [
       "<div>\n",
       "<style scoped>\n",
       "    .dataframe tbody tr th:only-of-type {\n",
       "        vertical-align: middle;\n",
       "    }\n",
       "\n",
       "    .dataframe tbody tr th {\n",
       "        vertical-align: top;\n",
       "    }\n",
       "\n",
       "    .dataframe thead th {\n",
       "        text-align: right;\n",
       "    }\n",
       "</style>\n",
       "<table border=\"1\" class=\"dataframe\">\n",
       "  <thead>\n",
       "    <tr style=\"text-align: right;\">\n",
       "      <th></th>\n",
       "      <th>exchange</th>\n",
       "      <th>market_type</th>\n",
       "      <th>pair</th>\n",
       "      <th>bar_type</th>\n",
       "      <th>bar_size</th>\n",
       "      <th>timestamp</th>\n",
       "      <th>timestamp_end</th>\n",
       "      <th>open</th>\n",
       "      <th>high</th>\n",
       "      <th>low</th>\n",
       "      <th>...</th>\n",
       "      <th>volume</th>\n",
       "      <th>volume_sell</th>\n",
       "      <th>volume_buy</th>\n",
       "      <th>volume_quote</th>\n",
       "      <th>volume_quote_sell</th>\n",
       "      <th>volume_quote_buy</th>\n",
       "      <th>count</th>\n",
       "      <th>count_sell</th>\n",
       "      <th>count_buy</th>\n",
       "      <th>vwap</th>\n",
       "    </tr>\n",
       "    <tr>\n",
       "      <th>timestamp</th>\n",
       "      <th></th>\n",
       "      <th></th>\n",
       "      <th></th>\n",
       "      <th></th>\n",
       "      <th></th>\n",
       "      <th></th>\n",
       "      <th></th>\n",
       "      <th></th>\n",
       "      <th></th>\n",
       "      <th></th>\n",
       "      <th></th>\n",
       "      <th></th>\n",
       "      <th></th>\n",
       "      <th></th>\n",
       "      <th></th>\n",
       "      <th></th>\n",
       "      <th></th>\n",
       "      <th></th>\n",
       "      <th></th>\n",
       "      <th></th>\n",
       "      <th></th>\n",
       "    </tr>\n",
       "  </thead>\n",
       "  <tbody>\n",
       "    <tr>\n",
       "      <th>2020-05-01 00:00:05.431</th>\n",
       "      <td>Binance</td>\n",
       "      <td>Swap</td>\n",
       "      <td>BTC_USDT</td>\n",
       "      <td>VolumeBar</td>\n",
       "      <td>64</td>\n",
       "      <td>2020-05-01 00:00:05.431</td>\n",
       "      <td>2020-05-01 00:00:12.704</td>\n",
       "      <td>8623.610352</td>\n",
       "      <td>8627.400391</td>\n",
       "      <td>8619.839844</td>\n",
       "      <td>...</td>\n",
       "      <td>63.026</td>\n",
       "      <td>36.075</td>\n",
       "      <td>26.951000</td>\n",
       "      <td>543545.25</td>\n",
       "      <td>311130.28</td>\n",
       "      <td>543509.20</td>\n",
       "      <td>112</td>\n",
       "      <td>57</td>\n",
       "      <td>55</td>\n",
       "      <td>8624.143211</td>\n",
       "    </tr>\n",
       "    <tr>\n",
       "      <th>2020-05-01 00:00:12.704</th>\n",
       "      <td>Binance</td>\n",
       "      <td>Swap</td>\n",
       "      <td>BTC_USDT</td>\n",
       "      <td>VolumeBar</td>\n",
       "      <td>64</td>\n",
       "      <td>2020-05-01 00:00:12.704</td>\n",
       "      <td>2020-05-01 00:00:22.182</td>\n",
       "      <td>8627.049805</td>\n",
       "      <td>8630.309570</td>\n",
       "      <td>8621.040039</td>\n",
       "      <td>...</td>\n",
       "      <td>62.557</td>\n",
       "      <td>43.086</td>\n",
       "      <td>19.471000</td>\n",
       "      <td>539685.44</td>\n",
       "      <td>371713.06</td>\n",
       "      <td>539642.40</td>\n",
       "      <td>127</td>\n",
       "      <td>69</td>\n",
       "      <td>58</td>\n",
       "      <td>8627.099126</td>\n",
       "    </tr>\n",
       "    <tr>\n",
       "      <th>2020-05-01 00:00:22.195</th>\n",
       "      <td>Binance</td>\n",
       "      <td>Swap</td>\n",
       "      <td>BTC_USDT</td>\n",
       "      <td>VolumeBar</td>\n",
       "      <td>64</td>\n",
       "      <td>2020-05-01 00:00:22.195</td>\n",
       "      <td>2020-05-01 00:00:30.356</td>\n",
       "      <td>8630.379883</td>\n",
       "      <td>8630.379883</td>\n",
       "      <td>8627.219727</td>\n",
       "      <td>...</td>\n",
       "      <td>66.308</td>\n",
       "      <td>46.577</td>\n",
       "      <td>19.730999</td>\n",
       "      <td>572227.50</td>\n",
       "      <td>401960.70</td>\n",
       "      <td>572180.94</td>\n",
       "      <td>83</td>\n",
       "      <td>39</td>\n",
       "      <td>44</td>\n",
       "      <td>8629.841045</td>\n",
       "    </tr>\n",
       "    <tr>\n",
       "      <th>2020-05-01 00:00:30.361</th>\n",
       "      <td>Binance</td>\n",
       "      <td>Swap</td>\n",
       "      <td>BTC_USDT</td>\n",
       "      <td>VolumeBar</td>\n",
       "      <td>64</td>\n",
       "      <td>2020-05-01 00:00:30.361</td>\n",
       "      <td>2020-05-01 00:00:45.953</td>\n",
       "      <td>8629.959961</td>\n",
       "      <td>8643.139648</td>\n",
       "      <td>8629.959961</td>\n",
       "      <td>...</td>\n",
       "      <td>64.077</td>\n",
       "      <td>53.890</td>\n",
       "      <td>10.187000</td>\n",
       "      <td>553333.80</td>\n",
       "      <td>465342.12</td>\n",
       "      <td>553279.94</td>\n",
       "      <td>147</td>\n",
       "      <td>106</td>\n",
       "      <td>41</td>\n",
       "      <td>8635.451098</td>\n",
       "    </tr>\n",
       "    <tr>\n",
       "      <th>2020-05-01 00:00:45.973</th>\n",
       "      <td>Binance</td>\n",
       "      <td>Swap</td>\n",
       "      <td>BTC_USDT</td>\n",
       "      <td>VolumeBar</td>\n",
       "      <td>64</td>\n",
       "      <td>2020-05-01 00:00:45.973</td>\n",
       "      <td>2020-05-01 00:00:55.335</td>\n",
       "      <td>8643.719727</td>\n",
       "      <td>8647.000000</td>\n",
       "      <td>8643.379883</td>\n",
       "      <td>...</td>\n",
       "      <td>63.671</td>\n",
       "      <td>47.747</td>\n",
       "      <td>15.924000</td>\n",
       "      <td>550453.50</td>\n",
       "      <td>412787.80</td>\n",
       "      <td>550405.75</td>\n",
       "      <td>100</td>\n",
       "      <td>73</td>\n",
       "      <td>27</td>\n",
       "      <td>8645.278070</td>\n",
       "    </tr>\n",
       "    <tr>\n",
       "      <th>...</th>\n",
       "      <td>...</td>\n",
       "      <td>...</td>\n",
       "      <td>...</td>\n",
       "      <td>...</td>\n",
       "      <td>...</td>\n",
       "      <td>...</td>\n",
       "      <td>...</td>\n",
       "      <td>...</td>\n",
       "      <td>...</td>\n",
       "      <td>...</td>\n",
       "      <td>...</td>\n",
       "      <td>...</td>\n",
       "      <td>...</td>\n",
       "      <td>...</td>\n",
       "      <td>...</td>\n",
       "      <td>...</td>\n",
       "      <td>...</td>\n",
       "      <td>...</td>\n",
       "      <td>...</td>\n",
       "      <td>...</td>\n",
       "      <td>...</td>\n",
       "    </tr>\n",
       "    <tr>\n",
       "      <th>2020-05-31 20:14:38.135</th>\n",
       "      <td>Binance</td>\n",
       "      <td>Swap</td>\n",
       "      <td>BTC_USDT</td>\n",
       "      <td>VolumeBar</td>\n",
       "      <td>64</td>\n",
       "      <td>2020-05-31 20:14:38.135</td>\n",
       "      <td>2020-05-31 20:15:09.582</td>\n",
       "      <td>9497.440430</td>\n",
       "      <td>9499.519531</td>\n",
       "      <td>9493.000000</td>\n",
       "      <td>...</td>\n",
       "      <td>65.386</td>\n",
       "      <td>49.905</td>\n",
       "      <td>15.481000</td>\n",
       "      <td>620963.06</td>\n",
       "      <td>473954.12</td>\n",
       "      <td>620913.20</td>\n",
       "      <td>159</td>\n",
       "      <td>96</td>\n",
       "      <td>63</td>\n",
       "      <td>9496.880984</td>\n",
       "    </tr>\n",
       "    <tr>\n",
       "      <th>2020-05-31 20:15:09.582</th>\n",
       "      <td>Binance</td>\n",
       "      <td>Swap</td>\n",
       "      <td>BTC_USDT</td>\n",
       "      <td>VolumeBar</td>\n",
       "      <td>64</td>\n",
       "      <td>2020-05-31 20:15:09.582</td>\n",
       "      <td>2020-05-31 20:16:54.003</td>\n",
       "      <td>9499.519531</td>\n",
       "      <td>9499.519531</td>\n",
       "      <td>9493.259766</td>\n",
       "      <td>...</td>\n",
       "      <td>63.064</td>\n",
       "      <td>26.372</td>\n",
       "      <td>36.692000</td>\n",
       "      <td>598917.60</td>\n",
       "      <td>250470.56</td>\n",
       "      <td>598891.25</td>\n",
       "      <td>234</td>\n",
       "      <td>112</td>\n",
       "      <td>122</td>\n",
       "      <td>9496.980845</td>\n",
       "    </tr>\n",
       "    <tr>\n",
       "      <th>2020-05-31 20:16:54.003</th>\n",
       "      <td>Binance</td>\n",
       "      <td>Swap</td>\n",
       "      <td>BTC_USDT</td>\n",
       "      <td>VolumeBar</td>\n",
       "      <td>64</td>\n",
       "      <td>2020-05-31 20:16:54.003</td>\n",
       "      <td>2020-05-31 20:18:15.408</td>\n",
       "      <td>9493.019531</td>\n",
       "      <td>9499.009766</td>\n",
       "      <td>9492.040039</td>\n",
       "      <td>...</td>\n",
       "      <td>64.962</td>\n",
       "      <td>18.023</td>\n",
       "      <td>46.939000</td>\n",
       "      <td>616793.40</td>\n",
       "      <td>171161.27</td>\n",
       "      <td>616775.40</td>\n",
       "      <td>157</td>\n",
       "      <td>86</td>\n",
       "      <td>71</td>\n",
       "      <td>9494.679967</td>\n",
       "    </tr>\n",
       "    <tr>\n",
       "      <th>2020-05-31 20:18:15.408</th>\n",
       "      <td>Binance</td>\n",
       "      <td>Swap</td>\n",
       "      <td>BTC_USDT</td>\n",
       "      <td>VolumeBar</td>\n",
       "      <td>64</td>\n",
       "      <td>2020-05-31 20:18:15.408</td>\n",
       "      <td>2020-05-31 20:18:29.787</td>\n",
       "      <td>9499.120117</td>\n",
       "      <td>9503.799805</td>\n",
       "      <td>9499.120117</td>\n",
       "      <td>...</td>\n",
       "      <td>63.985</td>\n",
       "      <td>53.690</td>\n",
       "      <td>10.295000</td>\n",
       "      <td>607928.60</td>\n",
       "      <td>510103.47</td>\n",
       "      <td>607874.94</td>\n",
       "      <td>124</td>\n",
       "      <td>93</td>\n",
       "      <td>31</td>\n",
       "      <td>9501.111198</td>\n",
       "    </tr>\n",
       "    <tr>\n",
       "      <th>2020-05-31 20:18:30.138</th>\n",
       "      <td>Binance</td>\n",
       "      <td>Swap</td>\n",
       "      <td>BTC_USDT</td>\n",
       "      <td>VolumeBar</td>\n",
       "      <td>64</td>\n",
       "      <td>2020-05-31 20:18:30.138</td>\n",
       "      <td>2020-05-31 20:19:45.252</td>\n",
       "      <td>9502.190430</td>\n",
       "      <td>9509.190430</td>\n",
       "      <td>9501.190430</td>\n",
       "      <td>...</td>\n",
       "      <td>63.836</td>\n",
       "      <td>38.886</td>\n",
       "      <td>24.950000</td>\n",
       "      <td>606794.00</td>\n",
       "      <td>369650.00</td>\n",
       "      <td>606755.10</td>\n",
       "      <td>234</td>\n",
       "      <td>128</td>\n",
       "      <td>106</td>\n",
       "      <td>9505.514130</td>\n",
       "    </tr>\n",
       "  </tbody>\n",
       "</table>\n",
       "<p>182943 rows × 23 columns</p>\n",
       "</div>"
      ],
      "text/plain": [
       "                        exchange market_type      pair   bar_type bar_size  \\\n",
       "timestamp                                                                    \n",
       "2020-05-01 00:00:05.431  Binance        Swap  BTC_USDT  VolumeBar       64   \n",
       "2020-05-01 00:00:12.704  Binance        Swap  BTC_USDT  VolumeBar       64   \n",
       "2020-05-01 00:00:22.195  Binance        Swap  BTC_USDT  VolumeBar       64   \n",
       "2020-05-01 00:00:30.361  Binance        Swap  BTC_USDT  VolumeBar       64   \n",
       "2020-05-01 00:00:45.973  Binance        Swap  BTC_USDT  VolumeBar       64   \n",
       "...                          ...         ...       ...        ...      ...   \n",
       "2020-05-31 20:14:38.135  Binance        Swap  BTC_USDT  VolumeBar       64   \n",
       "2020-05-31 20:15:09.582  Binance        Swap  BTC_USDT  VolumeBar       64   \n",
       "2020-05-31 20:16:54.003  Binance        Swap  BTC_USDT  VolumeBar       64   \n",
       "2020-05-31 20:18:15.408  Binance        Swap  BTC_USDT  VolumeBar       64   \n",
       "2020-05-31 20:18:30.138  Binance        Swap  BTC_USDT  VolumeBar       64   \n",
       "\n",
       "                                      timestamp           timestamp_end  \\\n",
       "timestamp                                                                 \n",
       "2020-05-01 00:00:05.431 2020-05-01 00:00:05.431 2020-05-01 00:00:12.704   \n",
       "2020-05-01 00:00:12.704 2020-05-01 00:00:12.704 2020-05-01 00:00:22.182   \n",
       "2020-05-01 00:00:22.195 2020-05-01 00:00:22.195 2020-05-01 00:00:30.356   \n",
       "2020-05-01 00:00:30.361 2020-05-01 00:00:30.361 2020-05-01 00:00:45.953   \n",
       "2020-05-01 00:00:45.973 2020-05-01 00:00:45.973 2020-05-01 00:00:55.335   \n",
       "...                                         ...                     ...   \n",
       "2020-05-31 20:14:38.135 2020-05-31 20:14:38.135 2020-05-31 20:15:09.582   \n",
       "2020-05-31 20:15:09.582 2020-05-31 20:15:09.582 2020-05-31 20:16:54.003   \n",
       "2020-05-31 20:16:54.003 2020-05-31 20:16:54.003 2020-05-31 20:18:15.408   \n",
       "2020-05-31 20:18:15.408 2020-05-31 20:18:15.408 2020-05-31 20:18:29.787   \n",
       "2020-05-31 20:18:30.138 2020-05-31 20:18:30.138 2020-05-31 20:19:45.252   \n",
       "\n",
       "                                open         high          low  ...  volume  \\\n",
       "timestamp                                                       ...           \n",
       "2020-05-01 00:00:05.431  8623.610352  8627.400391  8619.839844  ...  63.026   \n",
       "2020-05-01 00:00:12.704  8627.049805  8630.309570  8621.040039  ...  62.557   \n",
       "2020-05-01 00:00:22.195  8630.379883  8630.379883  8627.219727  ...  66.308   \n",
       "2020-05-01 00:00:30.361  8629.959961  8643.139648  8629.959961  ...  64.077   \n",
       "2020-05-01 00:00:45.973  8643.719727  8647.000000  8643.379883  ...  63.671   \n",
       "...                              ...          ...          ...  ...     ...   \n",
       "2020-05-31 20:14:38.135  9497.440430  9499.519531  9493.000000  ...  65.386   \n",
       "2020-05-31 20:15:09.582  9499.519531  9499.519531  9493.259766  ...  63.064   \n",
       "2020-05-31 20:16:54.003  9493.019531  9499.009766  9492.040039  ...  64.962   \n",
       "2020-05-31 20:18:15.408  9499.120117  9503.799805  9499.120117  ...  63.985   \n",
       "2020-05-31 20:18:30.138  9502.190430  9509.190430  9501.190430  ...  63.836   \n",
       "\n",
       "                         volume_sell  volume_buy  volume_quote  \\\n",
       "timestamp                                                        \n",
       "2020-05-01 00:00:05.431       36.075   26.951000     543545.25   \n",
       "2020-05-01 00:00:12.704       43.086   19.471000     539685.44   \n",
       "2020-05-01 00:00:22.195       46.577   19.730999     572227.50   \n",
       "2020-05-01 00:00:30.361       53.890   10.187000     553333.80   \n",
       "2020-05-01 00:00:45.973       47.747   15.924000     550453.50   \n",
       "...                              ...         ...           ...   \n",
       "2020-05-31 20:14:38.135       49.905   15.481000     620963.06   \n",
       "2020-05-31 20:15:09.582       26.372   36.692000     598917.60   \n",
       "2020-05-31 20:16:54.003       18.023   46.939000     616793.40   \n",
       "2020-05-31 20:18:15.408       53.690   10.295000     607928.60   \n",
       "2020-05-31 20:18:30.138       38.886   24.950000     606794.00   \n",
       "\n",
       "                         volume_quote_sell  volume_quote_buy  count  \\\n",
       "timestamp                                                             \n",
       "2020-05-01 00:00:05.431          311130.28         543509.20    112   \n",
       "2020-05-01 00:00:12.704          371713.06         539642.40    127   \n",
       "2020-05-01 00:00:22.195          401960.70         572180.94     83   \n",
       "2020-05-01 00:00:30.361          465342.12         553279.94    147   \n",
       "2020-05-01 00:00:45.973          412787.80         550405.75    100   \n",
       "...                                    ...               ...    ...   \n",
       "2020-05-31 20:14:38.135          473954.12         620913.20    159   \n",
       "2020-05-31 20:15:09.582          250470.56         598891.25    234   \n",
       "2020-05-31 20:16:54.003          171161.27         616775.40    157   \n",
       "2020-05-31 20:18:15.408          510103.47         607874.94    124   \n",
       "2020-05-31 20:18:30.138          369650.00         606755.10    234   \n",
       "\n",
       "                         count_sell  count_buy         vwap  \n",
       "timestamp                                                    \n",
       "2020-05-01 00:00:05.431          57         55  8624.143211  \n",
       "2020-05-01 00:00:12.704          69         58  8627.099126  \n",
       "2020-05-01 00:00:22.195          39         44  8629.841045  \n",
       "2020-05-01 00:00:30.361         106         41  8635.451098  \n",
       "2020-05-01 00:00:45.973          73         27  8645.278070  \n",
       "...                             ...        ...          ...  \n",
       "2020-05-31 20:14:38.135          96         63  9496.880984  \n",
       "2020-05-31 20:15:09.582         112        122  9496.980845  \n",
       "2020-05-31 20:16:54.003          86         71  9494.679967  \n",
       "2020-05-31 20:18:15.408          93         31  9501.111198  \n",
       "2020-05-31 20:18:30.138         128        106  9505.514130  \n",
       "\n",
       "[182943 rows x 23 columns]"
      ]
     },
     "execution_count": 5,
     "metadata": {},
     "output_type": "execute_result"
    }
   ],
   "source": [
    "volume_bars"
   ]
  },
  {
   "cell_type": "markdown",
   "metadata": {},
   "source": [
    "### 1.1 Plot price"
   ]
  },
  {
   "cell_type": "code",
   "execution_count": 6,
   "metadata": {},
   "outputs": [
    {
     "data": {
      "text/plain": [
       "Text(0.5, 1.0, 'Price')"
      ]
     },
     "execution_count": 6,
     "metadata": {},
     "output_type": "execute_result"
    },
    {
     "data": {
      "image/png": "[encoded data removed]",
      "text/plain": [
       "<Figure size 1152x576 with 1 Axes>"
      ]
     },
     "metadata": {
      "needs_background": "light"
     },
     "output_type": "display_data"
    }
   ],
   "source": [
    "fig, ax = plt.subplots(figsize=(16, 8))\n",
    "sns.lineplot(x=volume_bars.index, y=volume_bars['vwap'], ax=ax).set_title('Price')"
   ]
  },
  {
   "cell_type": "markdown",
   "metadata": {},
   "source": [
    "### 1.2 Plot price diff"
   ]
  },
  {
   "cell_type": "code",
   "execution_count": 7,
   "metadata": {},
   "outputs": [],
   "source": [
    "price_diffs = volume_bars['vwap'].diff().dropna().rename('price_diff')"
   ]
  },
  {
   "cell_type": "code",
   "execution_count": 8,
   "metadata": {},
   "outputs": [
    {
     "data": {
      "text/plain": [
       "count    182942.000000\n",
       "mean          0.004818\n",
       "std           3.968258\n",
       "min        -100.373737\n",
       "50%           0.011803\n",
       "95%           5.834531\n",
       "max         460.239003\n",
       "Name: price_diff, dtype: float64"
      ]
     },
     "execution_count": 8,
     "metadata": {},
     "output_type": "execute_result"
    }
   ],
   "source": [
    "price_diffs.describe(percentiles=[0.5, 0.95])"
   ]
  },
  {
   "cell_type": "code",
   "execution_count": 9,
   "metadata": {},
   "outputs": [
    {
     "data": {
      "text/plain": [
       "<matplotlib.axes._subplots.AxesSubplot at 0x7f74fafaee10>"
      ]
     },
     "execution_count": 9,
     "metadata": {},
     "output_type": "execute_result"
    },
    {
     "data": {
      "image/png": "[encoded data removed]",
      "text/plain": [
       "<Figure size 1152x576 with 1 Axes>"
      ]
     },
     "metadata": {
      "needs_background": "light"
     },
     "output_type": "display_data"
    }
   ],
   "source": [
    "fig, ax = plt.subplots(figsize=(16, 8))\n",
    "sns.lineplot(x=price_diffs.index, y=price_diffs, ax=ax)"
   ]
  },
  {
   "cell_type": "markdown",
   "metadata": {},
   "source": [
    "### 1.3 ADF test"
   ]
  },
  {
   "cell_type": "code",
   "execution_count": 10,
   "metadata": {},
   "outputs": [],
   "source": [
    "adf_result = ADF(price_diffs)"
   ]
  },
  {
   "cell_type": "code",
   "execution_count": 11,
   "metadata": {},
   "outputs": [
    {
     "name": "stdout",
     "output_type": "stream",
     "text": [
      "ADF Statistic: -67.898525\n",
      "p-value: 0.000000\n",
      "Used lag: 38.000000\n",
      "Number of observations: 182903.000000\n",
      "Critical Values:\n",
      "\t1%: -3.430\n",
      "\t5%: -2.862\n",
      "\t10%: -2.567\n"
     ]
    }
   ],
   "source": [
    "print('ADF Statistic: %f' % adf_result[0])\n",
    "print('p-value: %f' % adf_result[1])\n",
    "print('Used lag: %f' % adf_result[2])\n",
    "print('Number of observations: %f' % adf_result[3])\n",
    "print('Critical Values:')\n",
    "for key, value in adf_result[4].items():\n",
    "    print('\\t%s: %.3f' % (key, value))"
   ]
  },
  {
   "cell_type": "markdown",
   "metadata": {},
   "source": [
    "In the output above, we can see that ADF statistic value of `-14.685279` is less than the value of `-3.435` at 1%. Besides, the p-value is less than `0.05`. Both values reject the null hypothesis, therefore price diffs are stationary."
   ]
  },
  {
   "cell_type": "markdown",
   "metadata": {},
   "source": [
    "## 2. Plot ACF and PACF\n",
    "\n",
    "Usually we use partial autocorrelation to estimate the order `p` of `AR(p)` model and use autocorrelation to estimate the order `q` of `MA(q)` model, so let's first plot ACF and PACF.\n",
    "\n",
    "Rules to identify the orders of AR or MA:\n",
    "\n",
    "* The lag beyond which the PACF cuts off is the indicated order of AR.\n",
    "* The lag beyond which the ACF cuts off is the indicated order of MA."
   ]
  },
  {
   "cell_type": "code",
   "execution_count": 12,
   "metadata": {},
   "outputs": [
    {
     "data": {
      "image/png": "[encoded data removed]",
      "text/plain": [
       "<Figure size 864x576 with 2 Axes>"
      ]
     },
     "metadata": {
      "needs_background": "light"
     },
     "output_type": "display_data"
    }
   ],
   "source": [
    "fig = plt.figure(figsize=(12,8))\n",
    "ax1 = fig.add_subplot(211)\n",
    "fig = sm.graphics.tsa.plot_pacf(price_diffs, lags=20, zero=False, ax=ax1)\n",
    "ax2 = fig.add_subplot(212)\n",
    "fig = sm.graphics.tsa.plot_acf(price_diffs.values.squeeze(), lags=20, zero=False, ax=ax2)"
   ]
  },
  {
   "cell_type": "markdown",
   "metadata": {},
   "source": [
    "* The PACF shuts off after lag 1.\n",
    "* The ACF shuts off after lag 1.\n",
    "\n",
    "So we can tentatively set `p=1` and `q=1`."
   ]
  },
  {
   "cell_type": "markdown",
   "metadata": {},
   "source": [
    "## 2. Train the model"
   ]
  },
  {
   "cell_type": "code",
   "execution_count": 13,
   "metadata": {},
   "outputs": [],
   "source": [
    "# ar1_model = sm.tsa.arima.ARIMA(price_diffs, order=(1, 0, 0)).fit() # AR1\n",
    "# ma1_model = sm.tsa.arima.ARIMA(price_diffs, order=(0, 0, 1)).fit() # MA1\n",
    "arma_model = sm.tsa.arima.ARIMA(price_diffs, order=(1, 0, 1)).fit()  # ARMA(1,1)"
   ]
  },
  {
   "cell_type": "code",
   "execution_count": 14,
   "metadata": {},
   "outputs": [],
   "source": [
    "# arma_model.summary()"
   ]
  },
  {
   "cell_type": "code",
   "execution_count": 15,
   "metadata": {},
   "outputs": [
    {
     "name": "stdout",
     "output_type": "stream",
     "text": [
      "1008692.0885261969 1008732.5562239637 1008704.045351713\n"
     ]
    }
   ],
   "source": [
    "print(arma_model.aic, arma_model.bic, arma_model.hqic)"
   ]
  },
  {
   "cell_type": "code",
   "execution_count": 16,
   "metadata": {},
   "outputs": [
    {
     "name": "stdout",
     "output_type": "stream",
     "text": [
      "const      0.004821\n",
      "ar.L1      0.043380\n",
      "ma.L1      0.246520\n",
      "sigma2    14.523528\n",
      "dtype: float64\n"
     ]
    }
   ],
   "source": [
    "print(arma_model.params)"
   ]
  },
  {
   "cell_type": "markdown",
   "metadata": {},
   "source": [
    "## 3. How dows our model fit the data?\n",
    "\n",
    "Let's do a white noise test on the residuals time series data. If the residuals are white noise, which means all information have been extracted sufficiently by the model."
   ]
  },
  {
   "cell_type": "markdown",
   "metadata": {},
   "source": [
    "### 3.1 Are there any autocorrelations in residuals?"
   ]
  },
  {
   "cell_type": "code",
   "execution_count": 17,
   "metadata": {},
   "outputs": [
    {
     "data": {
      "text/plain": [
       "1.9998296309102466"
      ]
     },
     "execution_count": 17,
     "metadata": {},
     "output_type": "execute_result"
    }
   ],
   "source": [
    "sm.stats.durbin_watson(arma_model.resid.values)"
   ]
  },
  {
   "cell_type": "markdown",
   "metadata": {},
   "source": [
    "The Durbin–Watson statistic is very close to 2, and 2 indicates no autocorrelation."
   ]
  },
  {
   "cell_type": "markdown",
   "metadata": {},
   "source": [
    "### 3.2 Plot ACF and PACF of residuals"
   ]
  },
  {
   "cell_type": "code",
   "execution_count": 18,
   "metadata": {},
   "outputs": [
    {
     "data": {
      "image/png": "[encoded data removed]",
      "text/plain": [
       "<Figure size 864x576 with 2 Axes>"
      ]
     },
     "metadata": {
      "needs_background": "light"
     },
     "output_type": "display_data"
    }
   ],
   "source": [
    "fig = plt.figure(figsize=(12,8))\n",
    "ax1 = fig.add_subplot(211)\n",
    "fig = sm.graphics.tsa.plot_acf(arma_model.resid.values.squeeze(), lags=40, zero=False, ax=ax1)\n",
    "ax2 = fig.add_subplot(212)\n",
    "fig = sm.graphics.tsa.plot_pacf(arma_model.resid, lags=40, zero=False, ax=ax2)"
   ]
  },
  {
   "cell_type": "markdown",
   "metadata": {},
   "source": [
    "The two figures above show that autocorrelations are very small at almost all lags, which means residuals are almost white noise, the model has extracted information sufficiently."
   ]
  },
  {
   "cell_type": "markdown",
   "metadata": {},
   "source": [
    "### 3.3 Ljung-Box test"
   ]
  },
  {
   "cell_type": "code",
   "execution_count": 19,
   "metadata": {},
   "outputs": [
    {
     "data": {
      "text/html": [
       "<div>\n",
       "<style scoped>\n",
       "    .dataframe tbody tr th:only-of-type {\n",
       "        vertical-align: middle;\n",
       "    }\n",
       "\n",
       "    .dataframe tbody tr th {\n",
       "        vertical-align: top;\n",
       "    }\n",
       "\n",
       "    .dataframe thead th {\n",
       "        text-align: right;\n",
       "    }\n",
       "</style>\n",
       "<table border=\"1\" class=\"dataframe\">\n",
       "  <thead>\n",
       "    <tr style=\"text-align: right;\">\n",
       "      <th></th>\n",
       "      <th>lb_stat</th>\n",
       "      <th>lb_pvalue</th>\n",
       "    </tr>\n",
       "  </thead>\n",
       "  <tbody>\n",
       "    <tr>\n",
       "      <th>1</th>\n",
       "      <td>0.001245</td>\n",
       "      <td>0.971855</td>\n",
       "    </tr>\n",
       "  </tbody>\n",
       "</table>\n",
       "</div>"
      ],
      "text/plain": [
       "    lb_stat  lb_pvalue\n",
       "1  0.001245   0.971855"
      ]
     },
     "execution_count": 19,
     "metadata": {},
     "output_type": "execute_result"
    }
   ],
   "source": [
    "sm.stats.acorr_ljungbox(arma_model.resid.values, lags=1, return_df=True)"
   ]
  },
  {
   "cell_type": "markdown",
   "metadata": {},
   "source": [
    "The p-value of Ljung-Box test is much greater than 0.05, which indicates that residuals are white noise."
   ]
  },
  {
   "cell_type": "markdown",
   "metadata": {},
   "source": [
    "**Conclusion: The residuals are white noise, which means our model fits the data quite well.**"
   ]
  },
  {
   "cell_type": "markdown",
   "metadata": {},
   "source": [
    "## 4. Plot predicted values"
   ]
  },
  {
   "cell_type": "code",
   "execution_count": 20,
   "metadata": {},
   "outputs": [],
   "source": [
    "predicted_price_diffs = arma_model.predict(\n",
    "    start=price_diffs.index[0],\n",
    "    end=price_diffs.index[-1],\n",
    "    dynamic=True,\n",
    ")"
   ]
  },
  {
   "cell_type": "code",
   "execution_count": 21,
   "metadata": {},
   "outputs": [
    {
     "data": {
      "text/plain": [
       "<matplotlib.axes._subplots.AxesSubplot at 0x7f74fa9f5810>"
      ]
     },
     "execution_count": 21,
     "metadata": {},
     "output_type": "execute_result"
    },
    {
     "data": {
      "image/png": "[encoded data removed]",
      "text/plain": [
       "<Figure size 864x576 with 1 Axes>"
      ]
     },
     "metadata": {
      "needs_background": "light"
     },
     "output_type": "display_data"
    }
   ],
   "source": [
    "fig, ax = plt.subplots(figsize=(12, 8))\n",
    "price_diffs.plot(ax=ax)\n",
    "predicted_price_diffs.plot(ax=ax, style='r')"
   ]
  },
  {
   "cell_type": "markdown",
   "metadata": {},
   "source": [
    "## References\n",
    "\n",
    "* [Everything you can do with a time series | Kaggle](https://www.kaggle.com/thebrownviking20/everything-you-can-do-with-a-time-series)\n",
    "* [Time Series Forecast Case Study with Python: Monthly Armed Robberies in Boston](https://machinelearningmastery.com/time-series-forecast-case-study-python-monthly-armed-robberies-boston/)\n",
    "* [How does ACF & PACF identify the order of MA and AR terms? - Cross Validated](https://stats.stackexchange.com/q/281666/21732)\n",
    "* [Rules for identifying ARIMA models](https://people.duke.edu/~rnau/arimrule.htm)\n",
    "* [Identifying the numbers of AR or MA terms in an ARIMA model](https://people.duke.edu/~rnau/411arim3.htm)\n",
    "* [Autoregressive–moving-average model - Wikipedia](https://en.wikipedia.org/wiki/Autoregressive–moving-average_model)\n",
    "* [Autoregressive Moving Average (ARMA): Sunspots data - statsmodels](https://www.statsmodels.org/stable/examples/notebooks/generated/tsa_arma_0.html)\n",
    "* [statsmodels.tsa.arima.model.ARIMA](https://www.statsmodels.org/stable/generated/statsmodels.tsa.arima.model.ARIMA.html)"
   ]
  }
 ],
 "metadata": {
  "kernelspec": {
   "display_name": "Python 3",
   "language": "python",
   "name": "python3"
  },
  "language_info": {
   "codemirror_mode": {
    "name": "ipython",
    "version": 3
   },
   "file_extension": ".py",
   "mimetype": "text/x-python",
   "name": "python",
   "nbconvert_exporter": "python",
   "pygments_lexer": "ipython3",
   "version": "3.7.6"
  }
 },
 "nbformat": 4,
 "nbformat_minor": 4
}
